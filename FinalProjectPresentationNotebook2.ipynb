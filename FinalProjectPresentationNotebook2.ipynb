{
 "cells": [
  {
   "cell_type": "code",
   "execution_count": 1,
   "metadata": {
    "collapsed": true
   },
   "outputs": [],
   "source": [
    "#all imports\n",
    "# from bokeh.plotting import figure, output_file, show\n",
    "import gzip\n",
    "import io\n",
    "import pandas as pd\n",
    "import urllib.request\n",
    "\n",
    "%matplotlib inline\n",
    "\n",
    "import matplotlib # plotting\n",
    "import matplotlib.pyplot as plt\n",
    "\n",
    "import sqlite3\n",
    "\n",
    "%matplotlib inline\n",
    "\n",
    "import matplotlib\n",
    "import numpy as np\n",
    "import matplotlib.pyplot as plt\n",
    "\n",
    "#import pretty print\n",
    "\n",
    "from pprint import pprint"
   ]
  },
  {
   "cell_type": "code",
   "execution_count": 2,
   "metadata": {
    "collapsed": true
   },
   "outputs": [],
   "source": [
    "# Get the Latin Library corpus\n",
    "\n",
    "from cltk.corpus.latin import latinlibrary"
   ]
  },
  {
   "cell_type": "code",
   "execution_count": 3,
   "metadata": {
    "collapsed": true
   },
   "outputs": [],
   "source": [
    "# Imports for text preprocessing\n",
    "\n",
    "import re # Regex module, useful for pattern matching\n",
    "import html # Useful for handling entities\n",
    "\n",
    "# Import/load a CLTK tool for normalizing i/j and u/v in Latin texts\n",
    "from cltk.stem.latin.j_v import JVReplacer\n",
    "replacer = JVReplacer()"
   ]
  },
  {
   "cell_type": "code",
   "execution_count": 4,
   "metadata": {
    "collapsed": true
   },
   "outputs": [],
   "source": [
    "# Set up CLTK Latin word tokenizer\n",
    "\n",
    "from cltk.tokenize.word import WordTokenizer\n",
    "word_tokenizer = WordTokenizer('latin')"
   ]
  },
  {
   "cell_type": "code",
   "execution_count": 5,
   "metadata": {
    "collapsed": true
   },
   "outputs": [],
   "source": [
    "# We need to import a data model to train the lemmatizer.\n",
    "\n",
    "import os\n",
    "from cltk.utils.file_operations import open_pickle\n",
    "\n",
    "# Set up training sentences\n",
    "\n",
    "rel_path = os.path.join('~/cltk_data/latin/model/latin_models_cltk/lemmata/backoff')\n",
    "path = os.path.expanduser(rel_path)\n",
    "\n",
    "# Check for presence of latin_pos_lemmatized_sents\n",
    "file = 'latin_pos_lemmatized_sents.pickle'      \n",
    "\n",
    "latin_pos_lemmatized_sents_path = os.path.join(path, file)\n",
    "if os.path.isfile(latin_pos_lemmatized_sents_path):\n",
    "    latin_pos_lemmatized_sents = open_pickle(latin_pos_lemmatized_sents_path)\n",
    "else:\n",
    "    latin_pos_lemmatized_sents = []\n",
    "    print('The file %s is not available in cltk_data' % file)"
   ]
  },
  {
   "cell_type": "code",
   "execution_count": 6,
   "metadata": {
    "collapsed": true
   },
   "outputs": [],
   "source": [
    "# Set up CLTK Latin backoff lemmatizer\n",
    "\n",
    "from cltk.lemmatize.latin.backoff import BackoffLatinLemmatizer\n",
    "lemmatizer = BackoffLatinLemmatizer(latin_pos_lemmatized_sents)"
   ]
  },
  {
   "cell_type": "code",
   "execution_count": 9,
   "metadata": {
    "collapsed": true
   },
   "outputs": [],
   "source": [
    "from collections import Counter\n",
    "\n",
    "#importing table-generating tools\n",
    "from collections import OrderedDict\n",
    "from datetime import date\n",
    "\n",
    "from IPython.display import display, HTML"
   ]
  },
  {
   "cell_type": "code",
   "execution_count": 10,
   "metadata": {
    "collapsed": true
   },
   "outputs": [],
   "source": [
    "#begin Martial file processing"
   ]
  },
  {
   "cell_type": "code",
   "execution_count": 11,
   "metadata": {},
   "outputs": [
    {
     "name": "stdout",
     "output_type": "stream",
     "text": [
      "['12tables.txt', '1644.txt', 'abbofloracensis.txt', 'abelard/dialogus.txt', 'abelard/epistola.txt', 'abelard/historia.txt', 'addison/barometri.txt', 'addison/burnett.txt', 'addison/hannes.txt', 'addison/machinae.txt']\n"
     ]
    }
   ],
   "source": [
    "#files in LL\n",
    "\n",
    "ll_files = latinlibrary.fileids()\n",
    "print(ll_files[:10])"
   ]
  },
  {
   "cell_type": "code",
   "execution_count": 12,
   "metadata": {},
   "outputs": [
    {
     "name": "stdout",
     "output_type": "stream",
     "text": [
      "['martial/mart1.txt', 'martial/mart10.txt', 'martial/mart11.txt', 'martial/mart12.txt', 'martial/mart13.txt', 'martial/mart14.txt', 'martial/mart2.txt', 'martial/mart3.txt', 'martial/mart4.txt', 'martial/mart5.txt', 'martial/mart6.txt', 'martial/mart7.txt', 'martial/mart8.txt', 'martial/mart9.txt']\n"
     ]
    }
   ],
   "source": [
    "#Martial data from LL\n",
    "#find Martial files\n",
    "\n",
    "martial_files = [file for file in ll_files if 'martial/' in file] \n",
    "martial_files = [file for file in martial_files if not 'spec' in file]\n",
    "print(martial_files)"
   ]
  },
  {
   "cell_type": "code",
   "execution_count": 13,
   "metadata": {},
   "outputs": [
    {
     "name": "stdout",
     "output_type": "stream",
     "text": [
      "Martial I\n",
      "\t\t \n",
      "\n",
      "\t\t \n",
      "\t\t \n",
      "\t \n",
      "\t\n",
      " \n",
      "\n",
      " M. VALERI MARTIALIS EPIGRAMMATON LIBER I\n",
      " \n",
      "\n",
      " \n",
      "\n",
      " \n",
      " Prologus \n",
      " \n",
      "\n",
      " \n",
      "1. Spero me secutum in libellis meis tale temperamentum ut de illis queri non possit quisquis de se ben\n"
     ]
    }
   ],
   "source": [
    "#making Martial file into a string\n",
    "\n",
    "martial_raw = latinlibrary.raw(martial_files)\n",
    "print(martial_raw[:200])"
   ]
  },
  {
   "cell_type": "code",
   "execution_count": 14,
   "metadata": {
    "collapsed": true
   },
   "outputs": [],
   "source": [
    "# remove headings from the text\n",
    "\n",
    "def preprocess(text):\n",
    "    \n",
    "    remove_list = [r'\\bThe Latin Library\\b',\n",
    "                   r'\\bThe Classics Page\\b',\n",
    "                   r'\\bMartial\\b',\n",
    "                   r'\\bM. VALERI MARTIALIS EPIGRAMMATON LIBER I\\b',\n",
    "                   r'8a', r'8b', r'VIIIA', r'VIIIB',\n",
    "                   r'\\bPrologus\\b',\n",
    "                   r'\\bMartial Book I\\b',\n",
    "                   r'\\bMartial',\n",
    "                   r'I II III IV V VI VII VIII IX X',\n",
    "                   r'25a', r'25b'\n",
    "                  ]\n",
    "    \n",
    "    for pattern in remove_list:\n",
    "        text = re.sub(pattern, '', text)\n",
    "        \n",
    "    # Remove html entities and related html artifacts\n",
    "    \n",
    "    text = html.unescape(text) # Handle html entities\n",
    "    text = re.sub(r'&nbsp;?', ' ',text) #&nbsp; stripped incorrectly in corpus?\n",
    "    text = re.sub(r'\\x00',' ',text) #Another space problem?\n",
    "    text = re.sub(r' \\xa0 ', '    ', text)\n",
    "    \n",
    "    \n",
    "    # Lowercase text\n",
    "    text = text.lower()\n",
    "    \n",
    "   # Normalize text\n",
    "    text = replacer.replace(text) #Normalize u/v & i/j\n",
    "    \n",
    "    # Remove punctuation with translate\n",
    "    punctuation =\"\\\"#$%&\\'()+,-/:;<=>@[\\]^_`{|}~.?!«»—\"\n",
    "    translator = str.maketrans({key: \" \" for key in punctuation})\n",
    "    text = text.translate(translator)\n",
    "    \n",
    "    # Remove numbers\n",
    "    translator = str.maketrans({key: \" \" for key in '0123456789'})\n",
    "    text = text.translate(translator)\n",
    "    \n",
    "    # Handle spacing\n",
    "    text = re.sub('[ ]+',' ', text) # Remove double spaces\n",
    "    text = re.sub('\\t',' ', text) # Remove tabs\n",
    "    text = re.sub('^\\s+','', text)\n",
    "    text = re.sub(' \\n', '\\n', text)\n",
    "    text = re.sub('\\n\\n', '~', text)\n",
    "    text = re.sub('~+', '\\n\\n', text)\n",
    "    \n",
    "    return text"
   ]
  },
  {
   "cell_type": "code",
   "execution_count": 15,
   "metadata": {},
   "outputs": [
    {
     "name": "stdout",
     "output_type": "stream",
     "text": [
      "i\n",
      "  \n",
      "\n",
      "  \n",
      "  \n",
      " \n",
      "\n",
      " spero me secutum in libellis meis tale temperamentum ut de illis queri non possit quisquis de se bene senserit cum salua infirmarum quoque personarum reuerentia ludant quae adeo antiqu\n"
     ]
    }
   ],
   "source": [
    "# Preprocess texts\n",
    "\n",
    "martial_edit = preprocess(martial_raw)\n",
    "\n",
    "print (martial_edit[:200])"
   ]
  },
  {
   "cell_type": "code",
   "execution_count": 16,
   "metadata": {},
   "outputs": [
    {
     "name": "stdout",
     "output_type": "stream",
     "text": [
      "['i', 'spero', 'me', 'secutum', 'in', 'libellis', 'meis', 'tale', 'temperamentum', 'ut', 'de', 'illis', 'queri', 'non', 'possit', 'quisquis', 'de', 'se', 'bene', 'senserit', 'cum', 'salua', 'infirmarum', 'quoque', 'personarum', 'reuerentia', 'ludant', 'quae', 'adeo', 'antiquis', 'auctoribus', 'defuit', 'ut', 'nominibus', 'non', 'tantum', 'ueris', 'abusi', 'sint', 'sed', 'et', 'magnis', 'mihi', 'fama', 'uilius', 'constet', 'et', 'probetur', 'in', 'me']\n"
     ]
    }
   ],
   "source": [
    "#tokenizing individual words in the text\n",
    "\n",
    "martial_tokens = word_tokenizer.tokenize (martial_edit)\n",
    "\n",
    "print (martial_tokens[:50])"
   ]
  },
  {
   "cell_type": "code",
   "execution_count": 19,
   "metadata": {},
   "outputs": [
    {
     "name": "stdout",
     "output_type": "stream",
     "text": [
      "[('i', 'eo'), ('spero', 'spero'), ('me', 'ego'), ('secutum', 'sequor'), ('in', 'in'), ('libellis', 'libellus'), ('meis', 'meus'), ('tale', 'tal'), ('temperamentum', 'temperamentum'), ('ut', 'ut'), ('de', 'de'), ('illis', 'ille'), ('queri', 'queror'), ('non', 'non'), ('possit', 'possum'), ('quisquis', 'quisquis'), ('de', 'de'), ('se', 'sui'), ('bene', 'bene'), ('senserit', 'sentio'), ('cum', 'cum2'), ('salua', 'saluus'), ('infirmarum', 'infirmaris'), ('quoque', 'quoque'), ('personarum', 'personaris'), ('reuerentia', 'reverendus'), ('ludant', 'ludo'), ('quae', 'qui'), ('adeo', 'adeo'), ('antiquis', 'antiquus'), ('auctoribus', 'auctor'), ('defuit', 'desum'), ('ut', 'ut'), ('nominibus', 'nomen'), ('non', 'non'), ('tantum', 'tantus'), ('ueris', 'verus'), ('abusi', 'abutor'), ('sint', 'sum'), ('sed', 'sed'), ('et', 'et'), ('magnis', 'magnus'), ('mihi', 'ego'), ('fama', 'fama'), ('uilius', 'vilis'), ('constet', 'consto'), ('et', 'et'), ('probetur', 'probo'), ('in', 'in'), ('me', 'ego')]\n"
     ]
    }
   ],
   "source": [
    "#lemmatizing individual words, i.e. finding their dictionary entry, for easier comparison\n",
    "\n",
    "martial_lemmas = lemmatizer.lemmatize(martial_tokens)\n",
    "print(martial_lemmas[:50])"
   ]
  },
  {
   "cell_type": "code",
   "execution_count": 20,
   "metadata": {},
   "outputs": [
    {
     "name": "stdout",
     "output_type": "stream",
     "text": [
      "{'futuente', 'futuisse', 'futuant', 'futuit', 'futuis', 'futuat', 'futuam', 'fututa', 'futui', 'fututam'}\n"
     ]
    }
   ],
   "source": [
    "#finding each occurrence of the word 'futuo', and printing the form used in the text\n",
    "\n",
    "f = [item[0] for item in martial_lemmas if item[1] == 'futuo']\n",
    "print(set(f))"
   ]
  },
  {
   "cell_type": "code",
   "execution_count": 22,
   "metadata": {},
   "outputs": [
    {
     "name": "stdout",
     "output_type": "stream",
     "text": [
      "Counter({'futuit': 11, 'futui': 10, 'futuis': 8, 'fututam': 5, 'futuat': 4, 'futuisse': 3, 'futuam': 3, 'fututa': 1, 'futuant': 1, 'futuente': 1})\n"
     ]
    }
   ],
   "source": [
    "#counting the number of occurrences of each form\n",
    "\n",
    "fcount = Counter(f)\n",
    "print(fcount)"
   ]
  },
  {
   "cell_type": "code",
   "execution_count": 23,
   "metadata": {},
   "outputs": [
    {
     "name": "stdout",
     "output_type": "stream",
     "text": [
      "59110\n"
     ]
    }
   ],
   "source": [
    "#total word count in the whole text\n",
    "\n",
    "martial_wordcount = len(martial_lemmas)\n",
    "print(martial_wordcount)"
   ]
  },
  {
   "cell_type": "code",
   "execution_count": 24,
   "metadata": {},
   "outputs": [
    {
     "name": "stdout",
     "output_type": "stream",
     "text": [
      "47\n"
     ]
    }
   ],
   "source": [
    "#total times 'futuo' occurrs in the text\n",
    "\n",
    "totalf = sum(fcount.values())\n",
    "print(totalf)"
   ]
  },
  {
   "cell_type": "code",
   "execution_count": 25,
   "metadata": {},
   "outputs": [
    {
     "data": {
      "text/html": [
       "<div>\n",
       "<style>\n",
       "    .dataframe thead tr:only-child th {\n",
       "        text-align: right;\n",
       "    }\n",
       "\n",
       "    .dataframe thead th {\n",
       "        text-align: left;\n",
       "    }\n",
       "\n",
       "    .dataframe tbody tr th {\n",
       "        vertical-align: top;\n",
       "    }\n",
       "</style>\n",
       "<table border=\"1\" class=\"dataframe\">\n",
       "  <thead>\n",
       "    <tr style=\"text-align: right;\">\n",
       "      <th></th>\n",
       "      <th>futuo forms</th>\n",
       "      <th>occurrences</th>\n",
       "    </tr>\n",
       "  </thead>\n",
       "  <tbody>\n",
       "    <tr>\n",
       "      <th>0</th>\n",
       "      <td>futuit</td>\n",
       "      <td>11</td>\n",
       "    </tr>\n",
       "    <tr>\n",
       "      <th>1</th>\n",
       "      <td>futui</td>\n",
       "      <td>10</td>\n",
       "    </tr>\n",
       "    <tr>\n",
       "      <th>2</th>\n",
       "      <td>futuis</td>\n",
       "      <td>8</td>\n",
       "    </tr>\n",
       "    <tr>\n",
       "      <th>3</th>\n",
       "      <td>fututam</td>\n",
       "      <td>5</td>\n",
       "    </tr>\n",
       "    <tr>\n",
       "      <th>4</th>\n",
       "      <td>futuat</td>\n",
       "      <td>4</td>\n",
       "    </tr>\n",
       "    <tr>\n",
       "      <th>5</th>\n",
       "      <td>futuisse</td>\n",
       "      <td>3</td>\n",
       "    </tr>\n",
       "    <tr>\n",
       "      <th>6</th>\n",
       "      <td>futuam</td>\n",
       "      <td>3</td>\n",
       "    </tr>\n",
       "    <tr>\n",
       "      <th>7</th>\n",
       "      <td>fututa</td>\n",
       "      <td>1</td>\n",
       "    </tr>\n",
       "    <tr>\n",
       "      <th>8</th>\n",
       "      <td>futuant</td>\n",
       "      <td>1</td>\n",
       "    </tr>\n",
       "    <tr>\n",
       "      <th>9</th>\n",
       "      <td>futuente</td>\n",
       "      <td>1</td>\n",
       "    </tr>\n",
       "    <tr>\n",
       "      <th>10</th>\n",
       "      <td></td>\n",
       "      <td></td>\n",
       "    </tr>\n",
       "    <tr>\n",
       "      <th>11</th>\n",
       "      <td>total count</td>\n",
       "      <td>47</td>\n",
       "    </tr>\n",
       "    <tr>\n",
       "      <th>12</th>\n",
       "      <td>total tokens</td>\n",
       "      <td>59110</td>\n",
       "    </tr>\n",
       "    <tr>\n",
       "      <th>13</th>\n",
       "      <td>% of total</td>\n",
       "      <td>0.08</td>\n",
       "    </tr>\n",
       "  </tbody>\n",
       "</table>\n",
       "</div>"
      ],
      "text/plain": [
       "     futuo forms occurrences\n",
       "0         futuit          11\n",
       "1          futui          10\n",
       "2         futuis           8\n",
       "3        fututam           5\n",
       "4         futuat           4\n",
       "5       futuisse           3\n",
       "6         futuam           3\n",
       "7         fututa           1\n",
       "8        futuant           1\n",
       "9       futuente           1\n",
       "10                          \n",
       "11   total count          47\n",
       "12  total tokens       59110\n",
       "13    % of total        0.08"
      ]
     },
     "metadata": {},
     "output_type": "display_data"
    }
   ],
   "source": [
    "#martial table of occurrences of 'futuo'\n",
    "\n",
    "martialfcount = OrderedDict([ ('futuo forms', ['futuit', 'futui', 'futuis', 'fututam', 'futuat', 'futuisse', 'futuam', 'fututa', 'futuant', 'futuente', ' ', 'total count', 'total tokens', '% of total']), \n",
    "                            ('occurrences', [11, 10, 8, 5, 4, 3, 3, 1, 1, 1, '', 47, 59110, .08]) ] )\n",
    "    \n",
    "df1 = pd.DataFrame.from_dict(martialfcount)\n",
    "display(df1)"
   ]
  },
  {
   "cell_type": "code",
   "execution_count": 26,
   "metadata": {
    "collapsed": true
   },
   "outputs": [],
   "source": [
    "#begin processing Catullus data"
   ]
  },
  {
   "cell_type": "code",
   "execution_count": 27,
   "metadata": {
    "collapsed": true
   },
   "outputs": [],
   "source": [
    "from cltk.corpus.latin import latinlibrary\n",
    "files = latinlibrary.fileids()\n",
    "catullus_raw = latinlibrary.raw('catullus.txt')"
   ]
  },
  {
   "cell_type": "code",
   "execution_count": 28,
   "metadata": {},
   "outputs": [
    {
     "name": "stdout",
     "output_type": "stream",
     "text": [
      "Catullus\r\n",
      "\t\t \r\n",
      "\t\t \r\n",
      "\t\t \r\n",
      "\t\t \r\n",
      "\t\t \r\n",
      "\t \r\n",
      " \r\n",
      "\r\n",
      " C. VALERIVS CATVLLVS \r\n",
      " \r\n",
      " 1 2 2b 3 4 5  6 7 8 9 10 11 12 13 14 14b 15 16 17 21 22 23 24 25 26 27 28 29 30 31 32 33 34 35 36 37 38 39 40 41 42 43 44 45 46 47 48 49 50 51 52 53 54 55 56 57 58 58b 59 60 61 62 63 64 65 66 67 68 69 70 71 72 73 74 75 76 77 78 \n"
     ]
    }
   ],
   "source": [
    "print(catullus_raw[:300])"
   ]
  },
  {
   "cell_type": "code",
   "execution_count": 29,
   "metadata": {
    "collapsed": true
   },
   "outputs": [],
   "source": [
    "catullus_edit = catullus_raw # Make a copy of the list\n",
    "\n",
    "# 1. Make the whole text lowercase\n",
    "# Use 'lower' string method\n",
    "\n",
    "catullus_edit = catullus_edit.lower()\n",
    "\n",
    "# 2. Remove punctuation\n",
    "# Use 'translate'\n",
    "\n",
    "from string import punctuation\n",
    "\n",
    "translator = str.maketrans({key: \" \" for key in punctuation})\n",
    "catullus_edit = catullus_edit.translate(translator)\n",
    "\n",
    "# 3. Remove numbers\n",
    "# Again, use 'translate'\n",
    "\n",
    "translator = str.maketrans({key: \" \" for key in '0123456789'})\n",
    "catullus_edit = catullus_edit.translate(translator)\n",
    "\n",
    "# 4. Normalize u/v\n",
    "# Use CLTK 'JVReplacer'\n",
    "\n",
    "from cltk.stem.latin.j_v import JVReplacer\n",
    "replacer = JVReplacer()\n",
    "\n",
    "catullus_edit = replacer.replace(catullus_edit)\n",
    "\n",
    "# 5. Remove English words that appear in our plaintext file\n",
    "# Use 'replace'\n",
    "\n",
    "remove_list = ['the', 'latin', 'library', 'classics', 'page']\n",
    "remove_dict = {key: ' ' for key in remove_list}\n",
    "\n",
    "for k, v in remove_dict.items():\n",
    "    catullus_edit = catullus_edit.replace(k,v)"
   ]
  },
  {
   "cell_type": "code",
   "execution_count": 30,
   "metadata": {},
   "outputs": [
    {
     "name": "stdout",
     "output_type": "stream",
     "text": [
      "cui dono lepidum nouum libellum \r\n",
      "arida modo pumice expolitum  \r\n",
      "corneli  tibi  namque tu solebas \r\n",
      "meas esse aliquid putare nugas\n"
     ]
    }
   ],
   "source": [
    "#checking the edited text\n",
    "\n",
    "print(catullus_edit[469:599])"
   ]
  },
  {
   "cell_type": "code",
   "execution_count": 31,
   "metadata": {},
   "outputs": [
    {
     "name": "stdout",
     "output_type": "stream",
     "text": [
      "['catullus', 'c', 'ualerius', 'catullus', 'b', 'b', 'b', 'b', 'i', 'ad', 'cornelium', 'cui', 'dono', 'lepidum', 'nouum', 'libellum', 'arida', 'modo', 'pumice', 'expolitum', 'corneli', 'tibi', 'namque', 'tu', 'solebas', 'meas', 'esse', 'aliquid', 'putare', 'nugas', 'iam', 'tum', 'cum', 'ausus', 'es', 'unus', 'italorum', 'omne', 'aeuum', 'tribus', 'explicare', 'cartis', 'doctis', 'iuppiter', 'et', 'laboriosis', 'quare', 'habe', 'tibi', 'quidquid', 'hoc', 'libelli—', 'qualecum', '-que', 'quod', 'o', 'patrona', 'uirgo', 'plus', 'uno', 'maneat', 'perenne', 'saeclo', 'ii', 'fletus', 'passeris', 'lesbiae', 'passer', 'deliciae', 'meae', 'puellae', 'cum', 'qui', 'ludere', 'quem', 'in', 'sinu', 'tenere', 'cui', 'primum', 'digitum', 'dare', 'appetenti', 'et', 'acris', 'solet', 'incitare', 'morsus', 'cum', 'desiderio', 'meo', 'nitenti', 'carum', 'nescio', 'quid', 'lubet', 'iocari', 'et', 'solaciolum', 'sui']\n"
     ]
    }
   ],
   "source": [
    "#tokenizing \n",
    "\n",
    "catullus_tokens = word_tokenizer.tokenize (catullus_edit)\n",
    "\n",
    "print (catullus_tokens[:100])"
   ]
  },
  {
   "cell_type": "code",
   "execution_count": 32,
   "metadata": {},
   "outputs": [
    {
     "name": "stdout",
     "output_type": "stream",
     "text": [
      "[('catullus', 'catullus'), ('c', '-que'), ('ualerius', 'ualerius'), ('catullus', 'catullus'), ('b', 'b'), ('b', 'b'), ('b', 'b'), ('b', 'b'), ('i', 'eo'), ('ad', 'ad'), ('cornelium', 'cornelius'), ('cui', 'qui'), ('dono', 'donum'), ('lepidum', 'lepidus'), ('nouum', 'nouus'), ('libellum', 'libellus'), ('arida', 'aridus'), ('modo', 'modo'), ('pumice', 'pumex'), ('expolitum', 'expolio'), ('corneli', 'cornelis'), ('tibi', 'tu'), ('namque', 'namque'), ('tu', 'tu'), ('solebas', 'soleo'), ('meas', 'meus'), ('esse', 'sum'), ('aliquid', 'aliquis'), ('putare', 'putaris'), ('nugas', 'nugae'), ('iam', 'iam'), ('tum', 'tum'), ('cum', 'cum2'), ('ausus', 'audeo'), ('es', 'sum'), ('unus', 'unus'), ('italorum', 'italorum'), ('omne', 'omnis'), ('aeuum', 'aeuum'), ('tribus', 'tres'), ('explicare', 'explicaris'), ('cartis', 'cartis'), ('doctis', 'doceo'), ('iuppiter', 'iuppiter'), ('et', 'et'), ('laboriosis', 'laboriosus'), ('quare', 'quare'), ('habe', 'habeo'), ('tibi', 'tu'), ('quidquid', 'quisquis')]\n"
     ]
    }
   ],
   "source": [
    "#lemmatizing\n",
    "\n",
    "catullus_lemmas = lemmatizer.lemmatize(catullus_tokens)\n",
    "print(catullus_lemmas[:50])"
   ]
  },
  {
   "cell_type": "code",
   "execution_count": 33,
   "metadata": {},
   "outputs": [
    {
     "name": "stdout",
     "output_type": "stream",
     "text": [
      "{'futuit'}\n"
     ]
    }
   ],
   "source": [
    "#counting the number of occurrences of 'futuo'\n",
    "\n",
    "f2 = [item[0] for item in catullus_lemmas if item[1] == 'futuo']\n",
    "print(set(f2))"
   ]
  },
  {
   "cell_type": "code",
   "execution_count": 34,
   "metadata": {},
   "outputs": [
    {
     "name": "stdout",
     "output_type": "stream",
     "text": [
      "Counter({'futuit': 2})\n"
     ]
    }
   ],
   "source": [
    "f2count = Counter(f2)\n",
    "print(f2count)"
   ]
  },
  {
   "cell_type": "code",
   "execution_count": 35,
   "metadata": {},
   "outputs": [
    {
     "name": "stdout",
     "output_type": "stream",
     "text": [
      "13503\n"
     ]
    }
   ],
   "source": [
    "#total word count of Catullus corpus\n",
    "\n",
    "catullus_wordcount = len(catullus_lemmas)\n",
    "print(catullus_wordcount)"
   ]
  },
  {
   "cell_type": "code",
   "execution_count": 36,
   "metadata": {},
   "outputs": [
    {
     "data": {
      "text/html": [
       "<div>\n",
       "<style>\n",
       "    .dataframe thead tr:only-child th {\n",
       "        text-align: right;\n",
       "    }\n",
       "\n",
       "    .dataframe thead th {\n",
       "        text-align: left;\n",
       "    }\n",
       "\n",
       "    .dataframe tbody tr th {\n",
       "        vertical-align: top;\n",
       "    }\n",
       "</style>\n",
       "<table border=\"1\" class=\"dataframe\">\n",
       "  <thead>\n",
       "    <tr style=\"text-align: right;\">\n",
       "      <th></th>\n",
       "      <th>futuo forms</th>\n",
       "      <th>occurrences</th>\n",
       "    </tr>\n",
       "  </thead>\n",
       "  <tbody>\n",
       "    <tr>\n",
       "      <th>0</th>\n",
       "      <td>futuit</td>\n",
       "      <td>2</td>\n",
       "    </tr>\n",
       "    <tr>\n",
       "      <th>1</th>\n",
       "      <td></td>\n",
       "      <td></td>\n",
       "    </tr>\n",
       "    <tr>\n",
       "      <th>2</th>\n",
       "      <td>total count</td>\n",
       "      <td>2</td>\n",
       "    </tr>\n",
       "    <tr>\n",
       "      <th>3</th>\n",
       "      <td>total tokens</td>\n",
       "      <td>13503</td>\n",
       "    </tr>\n",
       "    <tr>\n",
       "      <th>4</th>\n",
       "      <td>% of total</td>\n",
       "      <td>0.02</td>\n",
       "    </tr>\n",
       "  </tbody>\n",
       "</table>\n",
       "</div>"
      ],
      "text/plain": [
       "    futuo forms occurrences\n",
       "0        futuit           2\n",
       "1                          \n",
       "2   total count           2\n",
       "3  total tokens       13503\n",
       "4    % of total        0.02"
      ]
     },
     "metadata": {},
     "output_type": "display_data"
    }
   ],
   "source": [
    "#Catullus table of occurrences of 'futuo'\n",
    "\n",
    "catullusfcount = OrderedDict([ ('futuo forms', ['futuit', ' ', 'total count', 'total tokens', '% of total']), \n",
    "                            ('occurrences', [2, '', 2, 13503, .02]) ] )\n",
    "    \n",
    "df2 = pd.DataFrame.from_dict(catullusfcount)\n",
    "display(df2)"
   ]
  },
  {
   "cell_type": "code",
   "execution_count": null,
   "metadata": {
    "collapsed": true
   },
   "outputs": [],
   "source": [
    "#begin Graffiti text processing"
   ]
  },
  {
   "cell_type": "code",
   "execution_count": 40,
   "metadata": {},
   "outputs": [
    {
     "name": "stdout",
     "output_type": "stream",
     "text": [
      "    CIL number  page                                        Inscription\n",
      "0         5092    19  amoris ignes si sentires, mulio, magis propera...\n",
      "1         1796    20  amplexus teneros hac si quis quaerit in urbe, ...\n",
      "2         2146    21  vibius Restitutus hic solus dormivit et Urbana...\n",
      "3        10241    21  Primigenae Nucerinae salutem / vellem essem ge...\n",
      "4          NaN    22  felicem somnum qui tecum nocte quiescet? hoc e...\n",
      "5         2483    24    Mansuetus provacator victor Veneri permam feret\n",
      "6         4007    24  tu, pupa, sic valeas, sic habeas Venere Pompei...\n",
      "7          538    25   abiat Venere Bompeiiana iratam qui hoc laesaerit\n",
      "8         1410    25  Venus enim plagiaria est; quia exsanguni meum ...\n",
      "9         1839    27  Agato Herrenni servus rogat Venere ut periat rogo\n",
      "10        1824    27  quisquis amat, veniat. Veneri volo frangere co...\n",
      "11        3691    29  non ego tam duco Venere de marmore factam secu...\n",
      "12        1625    30                                    Venus es. Venus\n",
      "13        6842    30  Si quis non vidi Venerem quam pinxit Apelles p...\n",
      "14       2413h    33   Cestilia, regina Pompeianoru, anima dulcis, vale\n",
      "15        9171    33  sic tibi contingat semper florere, Sabina; con...\n",
      "16        1234    34  pupa quae bella es tibi me misit qui tuus est....\n",
      "17       8807a    35                        Ceio et multis pupa venusta\n",
      "18         NaN    35  omnia formonsis cupio donare puellis set mihi ...\n",
      "19        1780    36                    quid faciam vobis, ocilli lusci\n",
      "20        1970    36                noete, lumen, vale, vle, usque vale\n",
      "21        8177    36  ..ae dulcissimae amantissimaeque ...que salure...\n",
      "22        1928    37  scribenti mii dictat Amor mostratque Cupido: a...\n",
      "23        1860    37  Quoi scrpisi semel et legit, mea iure puellast...\n",
      "24        8364    39  Secundus Prime suae ubique isse salute. Rogo, ...\n",
      "25        2414    40               Propero. Vale, mea Sava; fac me ames\n",
      "26       10234    40                      amo te, Facilis; fac mi copia\n",
      "27        2015    40  Isthmus Successe ubique salute et quod te roga...\n",
      "28        6865    41  ...ae nostrae feliciter. Perpetuo rogo, domna;...\n",
      "29        8824    42  Valens, domina. Valens, domina essem. salutem ...\n",
      "..         ...   ...                                                ...\n",
      "116       8473    98                             ... matrenia culibonia\n",
      "117       3951    98  Restutus dicit: Restetuta pone tunica; rogo, r...\n",
      "118       7679    99         Marcellus Praenestinam amat et non curatur\n",
      "119       3042    99                crudelis, Lalage, quae non amas ...\n",
      "120       1645   111  si quis forte meam cupiet violare puellam / il...\n",
      "121      10233   116                 Hygino salutem Edone Piladi fellat\n",
      "122       1516   119  hic ego nunc futue formosam forma puellam / la...\n",
      "123       1882   122                accensum qui pedicat, urit mentulam\n",
      "124       2210   131                                     paedicare volo\n",
      "125       2048   132                Secundus paedicavit pueros lugentes\n",
      "126       3932   134  hic Rufum carum ... dolete, puellae, paedico. ...\n",
      "127       8805   135  VII idus Septembres Quintus Postumius rogavit ...\n",
      "128      2319b   137              Vesbinus cinaedus, Vitalio paedicavit\n",
      "129       4917   137                               Albanus cinaedus est\n",
      "130     10232a   138  Lucius Habonius sauciat irrumat Caesonium Felicem\n",
      "131       8841   138                         Martialis, fellas Proculum\n",
      "132       8512   139                            Ianuari, lingis mentula\n",
      "133       4246   139                      qui me non mentula linget ...\n",
      "134       1825   140  Cosmus Equitiaes magnus sinaedus et fellator e...\n",
      "135      1825a   140                         Narcissus fellator maximus\n",
      "136       9027   140                            Secundus fellator rarus\n",
      "137       5408   146                             Felix fellat assibus I\n",
      "138       5048   147                     Euplia fellat assibus V nummum\n",
      "139      10004   147                              Euplia laxa landicosa\n",
      "140       3999   148                     Glyco cunnum lingit assibus II\n",
      "141       8940   148  Maritimus cunnum linget assibus II, virgines a...\n",
      "142       5372   149                                       sum tua aere\n",
      "143       2193   150       Arphocras hic cum Drauca bene futuit denario\n",
      "144       1751   150  siquis his sederit legat hoc ante omnia: si qu...\n",
      "145     10194a   151  Marcus Pollius Pudes futuit cratis, si amabit ...\n",
      "\n",
      "[146 rows x 3 columns]\n"
     ]
    }
   ],
   "source": [
    "#read CSV files from graffiti archives\n",
    "\n",
    "ep = pd.read_csv(\"/Users/erichensley1/Desktop/DH final project/ep.csv\")\n",
    "print(ep)"
   ]
  },
  {
   "cell_type": "code",
   "execution_count": 42,
   "metadata": {},
   "outputs": [],
   "source": [
    "#setting the 'inscription' column to a variable\n",
    "\n",
    "inscriptions = ep[\"Inscription\"]"
   ]
  },
  {
   "cell_type": "code",
   "execution_count": 43,
   "metadata": {},
   "outputs": [
    {
     "name": "stdout",
     "output_type": "stream",
     "text": [
      "amoris ignes si sentires mulio magis properares ut uideres uenerem diligo iuuenem uenustum rogo punge iamus bibisti iamus prende lora et excute pompeios defer ubi dulcis est amor meus es \n"
     ]
    }
   ],
   "source": [
    "#combining the data into a list\n",
    "\n",
    "inscriptions_edit = [preprocess(item) for item in list(ep['Inscription'])]\n",
    "print(inscriptions_edit[0])"
   ]
  },
  {
   "cell_type": "code",
   "execution_count": null,
   "metadata": {
    "collapsed": true
   },
   "outputs": [],
   "source": []
  },
  {
   "cell_type": "code",
   "execution_count": 45,
   "metadata": {},
   "outputs": [
    {
     "data": {
      "text/html": [
       "<div>\n",
       "<style>\n",
       "    .dataframe thead tr:only-child th {\n",
       "        text-align: right;\n",
       "    }\n",
       "\n",
       "    .dataframe thead th {\n",
       "        text-align: left;\n",
       "    }\n",
       "\n",
       "    .dataframe tbody tr th {\n",
       "        vertical-align: top;\n",
       "    }\n",
       "</style>\n",
       "<table border=\"1\" class=\"dataframe\">\n",
       "  <thead>\n",
       "    <tr style=\"text-align: right;\">\n",
       "      <th></th>\n",
       "      <th>futuo forms</th>\n",
       "      <th>occurrences</th>\n",
       "    </tr>\n",
       "  </thead>\n",
       "  <tbody>\n",
       "    <tr>\n",
       "      <th>0</th>\n",
       "      <td>futuit</td>\n",
       "      <td>4</td>\n",
       "    </tr>\n",
       "    <tr>\n",
       "      <th>1</th>\n",
       "      <td>futui</td>\n",
       "      <td>4</td>\n",
       "    </tr>\n",
       "    <tr>\n",
       "      <th>2</th>\n",
       "      <td>futua</td>\n",
       "      <td>2</td>\n",
       "    </tr>\n",
       "    <tr>\n",
       "      <th>3</th>\n",
       "      <td>futuebatur</td>\n",
       "      <td>2</td>\n",
       "    </tr>\n",
       "    <tr>\n",
       "      <th>4</th>\n",
       "      <td>futuitur</td>\n",
       "      <td>1</td>\n",
       "    </tr>\n",
       "    <tr>\n",
       "      <th>5</th>\n",
       "      <td>futuisse</td>\n",
       "      <td>1</td>\n",
       "    </tr>\n",
       "    <tr>\n",
       "      <th>6</th>\n",
       "      <td>fututu</td>\n",
       "      <td>1</td>\n",
       "    </tr>\n",
       "    <tr>\n",
       "      <th>7</th>\n",
       "      <td>perfutuor</td>\n",
       "      <td>1</td>\n",
       "    </tr>\n",
       "    <tr>\n",
       "      <th>8</th>\n",
       "      <td>difutuisti</td>\n",
       "      <td>1</td>\n",
       "    </tr>\n",
       "    <tr>\n",
       "      <th>9</th>\n",
       "      <td>futuet</td>\n",
       "      <td>1</td>\n",
       "    </tr>\n",
       "    <tr>\n",
       "      <th>10</th>\n",
       "      <td>futuimus</td>\n",
       "      <td>1</td>\n",
       "    </tr>\n",
       "    <tr>\n",
       "      <th>11</th>\n",
       "      <td>futues</td>\n",
       "      <td>1</td>\n",
       "    </tr>\n",
       "    <tr>\n",
       "      <th>12</th>\n",
       "      <td>fututa sum</td>\n",
       "      <td>1</td>\n",
       "    </tr>\n",
       "    <tr>\n",
       "      <th>13</th>\n",
       "      <td>futue</td>\n",
       "      <td>1</td>\n",
       "    </tr>\n",
       "    <tr>\n",
       "      <th>14</th>\n",
       "      <td>futuere</td>\n",
       "      <td>1</td>\n",
       "    </tr>\n",
       "    <tr>\n",
       "      <th>15</th>\n",
       "      <td></td>\n",
       "      <td></td>\n",
       "    </tr>\n",
       "    <tr>\n",
       "      <th>16</th>\n",
       "      <td>total count</td>\n",
       "      <td>23</td>\n",
       "    </tr>\n",
       "    <tr>\n",
       "      <th>17</th>\n",
       "      <td>total tokens</td>\n",
       "      <td>1255</td>\n",
       "    </tr>\n",
       "    <tr>\n",
       "      <th>18</th>\n",
       "      <td>% of total</td>\n",
       "      <td>1.83</td>\n",
       "    </tr>\n",
       "  </tbody>\n",
       "</table>\n",
       "</div>"
      ],
      "text/plain": [
       "     futuo forms occurrences\n",
       "0         futuit           4\n",
       "1          futui           4\n",
       "2          futua           2\n",
       "3     futuebatur           2\n",
       "4       futuitur           1\n",
       "5       futuisse           1\n",
       "6         fututu           1\n",
       "7      perfutuor           1\n",
       "8     difutuisti           1\n",
       "9         futuet           1\n",
       "10      futuimus           1\n",
       "11        futues           1\n",
       "12    fututa sum           1\n",
       "13         futue           1\n",
       "14       futuere           1\n",
       "15                          \n",
       "16   total count          23\n",
       "17  total tokens        1255\n",
       "18    % of total        1.83"
      ]
     },
     "metadata": {},
     "output_type": "display_data"
    }
   ],
   "source": [
    "#graffiti table of occurrences of 'futuo'\n",
    "\n",
    "martialfcount = OrderedDict([ ('futuo forms', ['futuit', 'futui', 'futua', 'futuebatur', 'futuitur', 'futuisse', 'fututu', 'perfutuor', 'difutuisti', 'futuet', 'futuimus', 'futues', 'fututa sum', 'futue', 'futuere', ' ', 'total count', 'total tokens', '% of total']), \n",
    "                            ('occurrences', [4, 4, 2, 2, 1, 1, 1, 1, 1, 1, 1, 1, 1, 1, 1, '', 23, 1255, 1.83]) ] )\n",
    "    \n",
    "df3 = pd.DataFrame.from_dict(martialfcount)\n",
    "display(df3)"
   ]
  },
  {
   "cell_type": "code",
   "execution_count": null,
   "metadata": {
    "collapsed": true
   },
   "outputs": [],
   "source": []
  }
 ],
 "metadata": {
  "kernelspec": {
   "display_name": "Python 3",
   "language": "python",
   "name": "python3"
  },
  "language_info": {
   "codemirror_mode": {
    "name": "ipython",
    "version": 3
   },
   "file_extension": ".py",
   "mimetype": "text/x-python",
   "name": "python",
   "nbconvert_exporter": "python",
   "pygments_lexer": "ipython3",
   "version": "3.6.1"
  }
 },
 "nbformat": 4,
 "nbformat_minor": 2
}

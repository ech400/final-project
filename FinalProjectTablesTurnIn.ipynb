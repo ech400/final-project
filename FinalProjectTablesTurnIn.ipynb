{
 "cells": [
  {
   "cell_type": "code",
   "execution_count": 1,
   "metadata": {
    "collapsed": true
   },
   "outputs": [],
   "source": [
    "#importing table-generating tools\n",
    "import pandas as pd\n",
    "from collections import OrderedDict\n",
    "from datetime import date"
   ]
  },
  {
   "cell_type": "code",
   "execution_count": 3,
   "metadata": {},
   "outputs": [
    {
     "name": "stdout",
     "output_type": "stream",
     "text": [
      "       eo forms occurrences\n",
      "0             i          24\n",
      "1           ire          19\n",
      "2           eat           8\n",
      "3          ibat           5\n",
      "4          ibis           4\n",
      "5           ite           4\n",
      "6                          \n",
      "7   total count          82\n",
      "8  total tokens       59110\n",
      "9    % of total        0.14\n"
     ]
    }
   ],
   "source": [
    "#martial eo\n",
    "\n",
    "martialeocount = OrderedDict([ ('eo forms', ['i', 'ire', 'eat', 'ibat', 'ibis', 'ite', ' ', 'total count', 'total tokens', '% of total']), \n",
    "                            ('occurrences', [24, 19, 8, 5, 4, 4, '', 82, 59110, .14]) ] )\n",
    "    \n",
    "dfeo1 = pd.DataFrame.from_dict(martialeocount)\n",
    "print(dfeo1)"
   ]
  },
  {
   "cell_type": "code",
   "execution_count": 5,
   "metadata": {},
   "outputs": [
    {
     "name": "stdout",
     "output_type": "stream",
     "text": [
      "       eo forms occurrences\n",
      "0             i           4\n",
      "1           ite           4\n",
      "2           eat           2\n",
      "3           ire           2\n",
      "4            it           1\n",
      "5          itis           1\n",
      "6                          \n",
      "7   total count          14\n",
      "8  total tokens       13503\n",
      "9    % of total         0.1\n"
     ]
    }
   ],
   "source": [
    "#catullus eo\n",
    "\n",
    "catulluseocount = OrderedDict([ ('eo forms', ['i', 'ite', 'eat', 'ire', 'it', 'itis', ' ', 'total count', 'total tokens', '% of total']), \n",
    "                            ('occurrences', [4, 4, 2, 2, 1, 1, '', 14, 13503, .10]) ] )\n",
    "    \n",
    "dfeo2 = pd.DataFrame.from_dict(catulluseocount)\n",
    "print(dfeo2)"
   ]
  },
  {
   "cell_type": "code",
   "execution_count": 6,
   "metadata": {},
   "outputs": [
    {
     "name": "stdout",
     "output_type": "stream",
     "text": [
      "       eo forms occurrences\n",
      "0             i           3\n",
      "1          isse           1\n",
      "2           ire           1\n",
      "3                          \n",
      "4   total count           5\n",
      "5  total tokens        1216\n",
      "6    % of total        0.41\n"
     ]
    }
   ],
   "source": [
    "#graffiti eo\n",
    "\n",
    "inscriptionseocount = OrderedDict([ ('eo forms', ['i', 'isse', 'ire', ' ', 'total count', 'total tokens', '% of total']), \n",
    "                            ('occurrences', [3, 1, 1, '', 5, 1216, .41]) ] )\n",
    "    \n",
    "dfeo3 = pd.DataFrame.from_dict(inscriptionseocount)\n",
    "print(dfeo3)"
   ]
  },
  {
   "cell_type": "code",
   "execution_count": 2,
   "metadata": {},
   "outputs": [
    {
     "name": "stdout",
     "output_type": "stream",
     "text": [
      "   pedico forms occurrences\n",
      "0        pedico           3\n",
      "1                          \n",
      "2   total count           3\n",
      "3  total tokens       59110\n",
      "4    % of total       0.005\n"
     ]
    }
   ],
   "source": [
    "#martial pedico\n",
    "\n",
    "martialpedcount = OrderedDict([ ('pedico forms', ['pedico', ' ', 'total count', 'total tokens', '% of total']), \n",
    "                            ('occurrences', [3, '', 3, 59110, .005]) ] )\n",
    "    \n",
    "dfped1 = pd.DataFrame.from_dict(martialpedcount)\n",
    "print(dfped1)"
   ]
  },
  {
   "cell_type": "code",
   "execution_count": 3,
   "metadata": {},
   "outputs": [
    {
     "name": "stdout",
     "output_type": "stream",
     "text": [
      "   pedico forms occurrences\n",
      "0      pedicabo           2\n",
      "1                          \n",
      "2   total count           2\n",
      "3  total tokens       13503\n",
      "4    % of total       0.015\n"
     ]
    }
   ],
   "source": [
    "#catullus pedico\n",
    "\n",
    "catulluspedcount = OrderedDict([ ('pedico forms', ['pedicabo', ' ', 'total count', 'total tokens', '% of total']), \n",
    "                            ('occurrences', [2, '', 2, 13503, .015]) ] )\n",
    "    \n",
    "dfped2 = pd.DataFrame.from_dict(catulluspedcount)\n",
    "print(dfped2)"
   ]
  },
  {
   "cell_type": "code",
   "execution_count": 4,
   "metadata": {},
   "outputs": [
    {
     "name": "stdout",
     "output_type": "stream",
     "text": [
      "   pedico forms occurrences\n",
      "0       paedico           1\n",
      "1                          \n",
      "2   total count           1\n",
      "3  total tokens        1216\n",
      "4    % of total        0.08\n"
     ]
    }
   ],
   "source": [
    "#graffiti pedico\n",
    "\n",
    "inscriptionspedcount = OrderedDict([ ('pedico forms', ['paedico', ' ', 'total count', 'total tokens', '% of total']), \n",
    "                            ('occurrences', [1, '', 1, 1216, .08]) ] )\n",
    "    \n",
    "dfped3 = pd.DataFrame.from_dict(inscriptionspedcount)\n",
    "print(dfped3)"
   ]
  },
  {
   "cell_type": "code",
   "execution_count": 5,
   "metadata": {},
   "outputs": [
    {
     "name": "stdout",
     "output_type": "stream",
     "text": [
      "    fello forms occurrences\n",
      "0        fellat           8\n",
      "1        fellas           2\n",
      "2      fellaret           2\n",
      "3                          \n",
      "4   total count          12\n",
      "5  total tokens       59110\n",
      "6    % of total        0.02\n"
     ]
    }
   ],
   "source": [
    "#martial fello\n",
    "\n",
    "martialfelcount = OrderedDict([ ('fello forms', ['fellat', 'fellas', 'fellaret', ' ', 'total count', 'total tokens', '% of total']), \n",
    "                            ('occurrences', [8, 2, 2, '', 12, 59110, .02]) ] )\n",
    "    \n",
    "dffel1 = pd.DataFrame.from_dict(martialfelcount)\n",
    "print(dffel1)"
   ]
  },
  {
   "cell_type": "code",
   "execution_count": 6,
   "metadata": {},
   "outputs": [
    {
     "name": "stdout",
     "output_type": "stream",
     "text": [
      "    fello forms occurrences\n",
      "0        fellat           1\n",
      "1                          \n",
      "2   total count           1\n",
      "3  total tokens       13503\n",
      "4    % of total       0.007\n"
     ]
    }
   ],
   "source": [
    "#catullus fello\n",
    "\n",
    "catullusfelcount = OrderedDict([ ('fello forms', ['fellat', ' ', 'total count', 'total tokens', '% of total']), \n",
    "                            ('occurrences', [1, '', 1, 13503, .007]) ] )\n",
    "    \n",
    "dffel2 = pd.DataFrame.from_dict(catullusfelcount)\n",
    "print(dffel2)"
   ]
  },
  {
   "cell_type": "code",
   "execution_count": 7,
   "metadata": {},
   "outputs": [
    {
     "name": "stdout",
     "output_type": "stream",
     "text": [
      "    fello forms occurrences\n",
      "0        fellat           4\n",
      "1        fellas           1\n",
      "2                          \n",
      "3   total count           5\n",
      "4  total tokens        1216\n",
      "5    % of total        0.41\n"
     ]
    }
   ],
   "source": [
    "#graffiti fello\n",
    "\n",
    "inscriptionsfelcount = OrderedDict([ ('fello forms', ['fellat', 'fellas', ' ', 'total count', 'total tokens', '% of total']), \n",
    "                            ('occurrences', [4, 1, '', 5, 1216, .41]) ] )\n",
    "    \n",
    "dffel3 = pd.DataFrame.from_dict(inscriptionsfelcount)\n",
    "print(dffel3)"
   ]
  },
  {
   "cell_type": "code",
   "execution_count": 8,
   "metadata": {},
   "outputs": [
    {
     "name": "stdout",
     "output_type": "stream",
     "text": [
      "    habeo forms occurrences\n",
      "0         habet          83\n",
      "1        habere          42\n",
      "2         habes          35\n",
      "3        habeat           9\n",
      "4        habent           7\n",
      "5        habeas           7\n",
      "6                          \n",
      "7   total count         219\n",
      "8  total tokens       59110\n",
      "9    % of total        0.37\n"
     ]
    }
   ],
   "source": [
    "#martial habeo top 6 forms\n",
    "\n",
    "martialhabcount = OrderedDict([ ('habeo forms', ['habet', 'habere', 'habes', 'habeat', 'habent', 'habeas', ' ', 'total count', 'total tokens', '% of total']), \n",
    "                            ('occurrences', [83, 42, 35, 9, 7, 7, '', 219, 59110, .37]) ] )\n",
    "    \n",
    "dfhab1 = pd.DataFrame.from_dict(martialhabcount)\n",
    "print(dfhab1)"
   ]
  },
  {
   "cell_type": "code",
   "execution_count": 9,
   "metadata": {},
   "outputs": [
    {
     "name": "stdout",
     "output_type": "stream",
     "text": [
      "    habeo forms occurrences\n",
      "0         habet           7\n",
      "1        habere           5\n",
      "2         habes           2\n",
      "3        habent           2\n",
      "4          habe           1\n",
      "5       haberet           1\n",
      "6                          \n",
      "7   total count          23\n",
      "8  total tokens       13503\n",
      "9    % of total        0.17\n"
     ]
    }
   ],
   "source": [
    "#catullus habeo top 6 forms\n",
    "\n",
    "catullushabcount = OrderedDict([ ('habeo forms', ['habet', 'habere', 'habes', 'habent', 'habe', 'haberet', ' ', 'total count', 'total tokens', '% of total']), \n",
    "                            ('occurrences', [7, 5, 2, 2, 1, 1, '', 23, 13503, .17]) ] )\n",
    "    \n",
    "dfhab2 = pd.DataFrame.from_dict(catullushabcount)\n",
    "print(dfhab2)"
   ]
  },
  {
   "cell_type": "code",
   "execution_count": 10,
   "metadata": {},
   "outputs": [
    {
     "name": "stdout",
     "output_type": "stream",
     "text": [
      "    habeo forms occurrences\n",
      "0        habeas           1\n",
      "1        habeto           1\n",
      "2                          \n",
      "3   total count           2\n",
      "4  total tokens        1216\n",
      "5    % of total        0.16\n"
     ]
    }
   ],
   "source": [
    "#graffiti habeo\n",
    "\n",
    "inscriptionshabcount = OrderedDict([ ('habeo forms', ['habeas', 'habeto', ' ', 'total count', 'total tokens', '% of total']), \n",
    "                            ('occurrences', [1, 1, '', 2, 1216, .16]) ] )\n",
    "    \n",
    "dfhab3 = pd.DataFrame.from_dict(inscriptionshabcount)\n",
    "print(dfhab3)"
   ]
  },
  {
   "cell_type": "code",
   "execution_count": null,
   "metadata": {
    "collapsed": true
   },
   "outputs": [],
   "source": []
  }
 ],
 "metadata": {
  "kernelspec": {
   "display_name": "Python 3",
   "language": "python",
   "name": "python3"
  },
  "language_info": {
   "codemirror_mode": {
    "name": "ipython",
    "version": 3
   },
   "file_extension": ".py",
   "mimetype": "text/x-python",
   "name": "python",
   "nbconvert_exporter": "python",
   "pygments_lexer": "ipython3",
   "version": "3.6.1"
  }
 },
 "nbformat": 4,
 "nbformat_minor": 2
}
